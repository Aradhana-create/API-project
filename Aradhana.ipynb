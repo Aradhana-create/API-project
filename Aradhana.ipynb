{
  "nbformat": 4,
  "nbformat_minor": 0,
  "metadata": {
    "colab": {
      "name": "Aradhana.ipynb",
      "provenance": []
    },
    "kernelspec": {
      "name": "python3",
      "display_name": "Python 3"
    },
    "language_info": {
      "name": "python"
    }
  },
  "cells": [
    {
      "cell_type": "code",
      "metadata": {
        "id": "pwgNk8trYaM_"
      },
      "source": [
        "import requests\n",
        "from datetime import datetime"
      ],
      "execution_count": 13,
      "outputs": []
    },
    {
      "cell_type": "code",
      "metadata": {
        "colab": {
          "base_uri": "https://localhost:8080/"
        },
        "id": "8D0DK4dcaxWH",
        "outputId": "ee6870cb-0e81-4894-dad0-a5733782387c"
      },
      "source": [
        "api_key = \"cdeeac8c0640654ff521726cd2472985\"\n",
        "location = input(\"Enter your city name:\")"
      ],
      "execution_count": null,
      "outputs": [
        {
          "output_type": "stream",
          "text": [
            "Enter your city name:Lucknow\n"
          ],
          "name": "stdout"
        }
      ]
    },
    {
      "cell_type": "code",
      "metadata": {
        "id": "gEyue_nXbURB"
      },
      "source": [
        "complete_api_link = \"https://api.openweathermap.org/data/2.5/weather?q=\" + location + \"&appid=\" + api_key\n",
        "api_link = requests.get(complete_api_link)\n",
        "api_data = api_link.json()"
      ],
      "execution_count": null,
      "outputs": []
    },
    {
      "cell_type": "code",
      "metadata": {
        "id": "rGOj37UWeXyh"
      },
      "source": [
        "temp_city = ((api_data[\"main\"][\"temp\"]) - 273.15)\n",
        "weather_desc = api_data[\"weather\"][0][\"description\"]\n",
        "humi = api_data[\"main\"][\"humidity\"]\n",
        "wind_spd = api_data[\"wind\"] [\"speed\"]\n",
        "date_time = datetime.now().strftime(\"%d %b %y | %I:%M:%S %p\")"
      ],
      "execution_count": null,
      "outputs": []
    },
    {
      "cell_type": "code",
      "metadata": {
        "colab": {
          "base_uri": "https://localhost:8080/"
        },
        "id": "oG6gTBPVhClj",
        "outputId": "ad6e7fcb-5b0c-4440-aaf3-0a1d23d78d69"
      },
      "source": [
        "print(\"Weather starts for - {} || {} \".format(location.upper(), date_time))\n",
        "print(\"Current temperature is: {:.2f}deg C\".format(temp_city))\n",
        "print(\"Current Weather Description:\",weather_desc)\n",
        "print(\"Current Humidity:\",humi, \"%\")\n",
        "print(\"Current Wind speed:\", wind_spd, \"kmph\")"
      ],
      "execution_count": null,
      "outputs": [
        {
          "output_type": "stream",
          "text": [
            "Weather starts for - LUCKNOW || 22 Jun 21 | 11:56:01 AM \n",
            "Current temperature is: 33.99deg C\n",
            "Current Weather Description: haze\n",
            "Current Humidity: 75 %\n",
            "Current Wind speed: 1.03 kmph\n"
          ],
          "name": "stdout"
        }
      ]
    },
    {
      "cell_type": "code",
      "metadata": {
        "id": "iTG-gT-cnY5C"
      },
      "source": [
        "import requests\n",
        "r = requests.get('https://colab.research.google.com/drive/1SYOk2jNujrPdNdp8__ZeWvzQSo4uVpLz#scrollTo=iTG-gT-cnY5C')\n",
        "\n",
        "with open(\"API.txt\",\"wb\") as f:\n",
        "  f.write(r.content)\n",
        " \n"
      ],
      "execution_count": 14,
      "outputs": []
    }
  ]
}